{
 "cells": [
  {
   "cell_type": "code",
   "execution_count": 2,
   "metadata": {
    "collapsed": true
   },
   "outputs": [],
   "source": [
    "import pandas as pd\n",
    "import numpy as np\n",
    "import matplotlib.pyplot as plt\n",
    "import random"
   ]
  },
  {
   "cell_type": "code",
   "execution_count": 3,
   "metadata": {
    "collapsed": false
   },
   "outputs": [],
   "source": [
    "class Network(object):\n",
    "\n",
    "    def __init__(self, sizes, func_model):\n",
    "        self.num_layers = len(sizes)\n",
    "        self.sizes = sizes\n",
    "        self.biases = [np.random.randn(y, 1) for y in sizes[1:]]\n",
    "        self.weights = [np.random.randn(y, x)\n",
    "                        for x, y in zip(sizes[:-1], sizes[1:])]\n",
    "        self.activate_func = func_model[\"activate_func\"]\n",
    "        self.activate_func_prime = func_model[\"activate_func_prime\"]\n",
    "        self.cost_func = func_model[\"cost_func\"]\n",
    "        self.cost_derivative = func_model[\"cost_derivative\"]\n",
    "\n",
    "    def feedforward(self, a):\n",
    "        for b, w in zip(self.biases, self.weights):\n",
    "            a = self.activate_func(np.dot(w, a) + b)\n",
    "        return a\n",
    "\n",
    "\n",
    "    def SGD(self, training_data, epochs, mini_batch_size, eta, test_data=None):\n",
    "        training_data = list(training_data)\n",
    "        n = len(training_data)\n",
    "        if test_data:\n",
    "            test_data = list(test_data)\n",
    "            n_test = len(test_data)\n",
    "\n",
    "        for j in range(epochs):\n",
    "            random.shuffle(training_data)\n",
    "            mini_batches = [\n",
    "                training_data[k:k + mini_batch_size]\n",
    "                for k in range(0, n, mini_batch_size)]\n",
    "            for mini_batch in mini_batches:\n",
    "                self.update_mini_batch(mini_batch, eta)\n",
    "            if test_data:\n",
    "                print(\"Epoch {} Cost: {}\".format(\n",
    "                    j, self.evaluate(test_data)))\n",
    "            else:\n",
    "                print(\"Epoch {} complete\".format(j))\n",
    "\n",
    "\n",
    "    def evaluate(self,test_data):\n",
    "        return np.array([self.cost_func(self.feedforward(item[0]),item[1]) for item in test_data]).mean()\n",
    "\n",
    "    def update_mini_batch(self, mini_batch, eta):\n",
    "\n",
    "        nabla_b = [np.zeros(b.shape) for b in self.biases]\n",
    "        nabla_w = [np.zeros(w.shape) for w in self.weights]\n",
    "        for x, y in mini_batch:\n",
    "            delta_nabla_b, delta_nabla_w = self.backprop(x, y)\n",
    "            nabla_b = [nb + dnb for nb, dnb in zip(nabla_b, delta_nabla_b)]\n",
    "            nabla_w = [nw + dnw for nw, dnw in zip(nabla_w, delta_nabla_w)]\n",
    "        self.weights = [w - (eta / len(mini_batch)) * nw\n",
    "                        for w, nw in zip(self.weights, nabla_w)]\n",
    "        self.biases = [b - (eta / len(mini_batch)) * nb\n",
    "                       for b, nb in zip(self.biases, nabla_b)]\n",
    "\n",
    "    def backprop(self, x, y):\n",
    "        nabla_b = [np.zeros(b.shape) for b in self.biases]\n",
    "        nabla_w = [np.zeros(w.shape) for w in self.weights]\n",
    "        activation = x\n",
    "        activations = [x]\n",
    "        zs = []\n",
    "        for b, w in zip(self.biases, self.weights):\n",
    "            z = np.dot(w, activation) + b\n",
    "            zs.append(z)\n",
    "            activation = self.activate_func(z)\n",
    "            activations.append(activation)\n",
    "        delta = self.cost_derivative(activations[-1], y) * \\\n",
    "            self.activate_func_prime(zs[-1])\n",
    "        nabla_b[-1] = delta\n",
    "        nabla_w[-1] = np.dot(delta, activations[-2].transpose())\n",
    "\n",
    "        for l in range(2, self.num_layers):\n",
    "            z = zs[-l]\n",
    "            sp = self.activate_func_prime(z)\n",
    "            delta = np.dot(self.weights[-l + 1].transpose(), delta) * sp\n",
    "            nabla_b[-l] = delta\n",
    "            nabla_w[-l] = np.dot(delta, activations[-l - 1].transpose())\n",
    "        return (nabla_b, nabla_w)"
   ]
  },
  {
   "cell_type": "code",
   "execution_count": 4,
   "metadata": {
    "collapsed": false
   },
   "outputs": [],
   "source": [
    "data=pd.read_excel('training_data.xlsx')"
   ]
  },
  {
   "cell_type": "code",
   "execution_count": 5,
   "metadata": {
    "collapsed": false
   },
   "outputs": [
    {
     "name": "stdout",
     "output_type": "stream",
     "text": [
      "Index(['buffer', 'RTT', 'avg_speed', 'buffer_delay', 'stuck_ratio'], dtype='object')\n"
     ]
    }
   ],
   "source": [
    "print(data.columns)"
   ]
  },
  {
   "cell_type": "code",
   "execution_count": 5,
   "metadata": {
    "collapsed": false
   },
   "outputs": [
    {
     "name": "stdout",
     "output_type": "stream",
     "text": [
      "count     74136.000000\n",
      "mean      40644.076751\n",
      "std       22525.913360\n",
      "min         304.000000\n",
      "25%       22718.000000\n",
      "50%       37189.500000\n",
      "75%       55428.250000\n",
      "max      159225.000000\n",
      "Name: buffer, dtype: float64\n",
      "count    74136.000000\n",
      "mean        51.597119\n",
      "std         21.781843\n",
      "min         15.000000\n",
      "25%         36.000000\n",
      "50%         47.000000\n",
      "75%         61.000000\n",
      "max        149.000000\n",
      "Name: RTT, dtype: float64\n",
      "count    74136.00000\n",
      "mean      5739.62902\n",
      "std        968.04202\n",
      "min         10.00000\n",
      "25%       5644.00000\n",
      "50%       5918.00000\n",
      "75%       6147.00000\n",
      "max      29332.00000\n",
      "Name: avg_speed, dtype: float64\n",
      "count    74136.000000\n",
      "mean      1440.801932\n",
      "std       1383.820098\n",
      "min        510.000000\n",
      "25%        855.000000\n",
      "50%       1094.000000\n",
      "75%       1557.000000\n",
      "max      30552.000000\n",
      "Name: buffer_delay, dtype: float64\n",
      "count    74136.000000\n",
      "mean         0.056414\n",
      "std          0.790739\n",
      "min          0.000000\n",
      "25%          0.000000\n",
      "50%          0.000000\n",
      "75%          0.000000\n",
      "max         44.667000\n",
      "Name: stuck_ratio, dtype: float64\n"
     ]
    }
   ],
   "source": [
    "for item in data.columns:\n",
    "    print(data[item].describe())"
   ]
  },
  {
   "cell_type": "code",
   "execution_count": 89,
   "metadata": {
    "collapsed": true
   },
   "outputs": [],
   "source": [
    "def sigmoid(z):\n",
    "    return 1 / (1 + np.exp(-z))\n",
    "\n",
    "\n",
    "def sigmoid_prime(z):\n",
    "    return sigmoid(z) * (1 - sigmoid(z))\n",
    "\n",
    "\n",
    "def cost_derivative(output_activations, y):\n",
    "    return (output_activations-y)\n",
    "\n",
    "\n",
    "def cost_func(output_activations, y):\n",
    "    return 0.5 * np.linalg.norm(output_activations - y)\n",
    "\n",
    "\n",
    "func_model = {\"activate_func\": sigmoid,\n",
    "              \"activate_func_prime\": sigmoid_prime,\n",
    "              \"cost_func\": cost_func,\n",
    "              \"cost_derivative\": cost_derivative, }"
   ]
  },
  {
   "cell_type": "code",
   "execution_count": 79,
   "metadata": {
    "collapsed": false
   },
   "outputs": [
    {
     "data": {
      "text/html": [
       "<div>\n",
       "<table border=\"1\" class=\"dataframe\">\n",
       "  <thead>\n",
       "    <tr style=\"text-align: right;\">\n",
       "      <th></th>\n",
       "      <th>buffer</th>\n",
       "      <th>RTT</th>\n",
       "      <th>avg_speed</th>\n",
       "      <th>buffer_delay</th>\n",
       "      <th>stuck_ratio</th>\n",
       "    </tr>\n",
       "  </thead>\n",
       "  <tbody>\n",
       "    <tr>\n",
       "      <th>138</th>\n",
       "      <td>10575</td>\n",
       "      <td>36</td>\n",
       "      <td>1643</td>\n",
       "      <td>4665</td>\n",
       "      <td>1.355</td>\n",
       "    </tr>\n",
       "    <tr>\n",
       "      <th>206</th>\n",
       "      <td>40323</td>\n",
       "      <td>73</td>\n",
       "      <td>5844</td>\n",
       "      <td>2817</td>\n",
       "      <td>0.025</td>\n",
       "    </tr>\n",
       "    <tr>\n",
       "      <th>249</th>\n",
       "      <td>22609</td>\n",
       "      <td>27</td>\n",
       "      <td>6792</td>\n",
       "      <td>5990</td>\n",
       "      <td>0.170</td>\n",
       "    </tr>\n",
       "    <tr>\n",
       "      <th>262</th>\n",
       "      <td>22648</td>\n",
       "      <td>94</td>\n",
       "      <td>3105</td>\n",
       "      <td>1879</td>\n",
       "      <td>0.299</td>\n",
       "    </tr>\n",
       "    <tr>\n",
       "      <th>501</th>\n",
       "      <td>7462</td>\n",
       "      <td>58</td>\n",
       "      <td>6262</td>\n",
       "      <td>3193</td>\n",
       "      <td>0.029</td>\n",
       "    </tr>\n",
       "  </tbody>\n",
       "</table>\n",
       "</div>"
      ],
      "text/plain": [
       "     buffer  RTT  avg_speed  buffer_delay  stuck_ratio\n",
       "138   10575   36       1643          4665        1.355\n",
       "206   40323   73       5844          2817        0.025\n",
       "249   22609   27       6792          5990        0.170\n",
       "262   22648   94       3105          1879        0.299\n",
       "501    7462   58       6262          3193        0.029"
      ]
     },
     "execution_count": 79,
     "metadata": {},
     "output_type": "execute_result"
    }
   ],
   "source": [
    "training_data=data[data['stuck_ratio']!=0]\n",
    "training_data.head()"
   ]
  },
  {
   "cell_type": "code",
   "execution_count": 80,
   "metadata": {
    "collapsed": false
   },
   "outputs": [
    {
     "name": "stderr",
     "output_type": "stream",
     "text": [
      "C:\\Users\\84338\\Anaconda3\\lib\\site-packages\\ipykernel\\__main__.py:1: SettingWithCopyWarning: \n",
      "A value is trying to be set on a copy of a slice from a DataFrame.\n",
      "Try using .loc[row_indexer,col_indexer] = value instead\n",
      "\n",
      "See the caveats in the documentation: http://pandas.pydata.org/pandas-docs/stable/indexing.html#indexing-view-versus-copy\n",
      "  if __name__ == '__main__':\n",
      "C:\\Users\\84338\\Anaconda3\\lib\\site-packages\\ipykernel\\__main__.py:2: SettingWithCopyWarning: \n",
      "A value is trying to be set on a copy of a slice from a DataFrame.\n",
      "Try using .loc[row_indexer,col_indexer] = value instead\n",
      "\n",
      "See the caveats in the documentation: http://pandas.pydata.org/pandas-docs/stable/indexing.html#indexing-view-versus-copy\n",
      "  from ipykernel import kernelapp as app\n"
     ]
    },
    {
     "data": {
      "text/html": [
       "<div>\n",
       "<table border=\"1\" class=\"dataframe\">\n",
       "  <thead>\n",
       "    <tr style=\"text-align: right;\">\n",
       "      <th></th>\n",
       "      <th>buffer</th>\n",
       "      <th>RTT</th>\n",
       "      <th>avg_speed</th>\n",
       "      <th>buffer_delay</th>\n",
       "      <th>stuck_ratio</th>\n",
       "    </tr>\n",
       "  </thead>\n",
       "  <tbody>\n",
       "    <tr>\n",
       "      <th>138</th>\n",
       "      <td>2.1150</td>\n",
       "      <td>36</td>\n",
       "      <td>8.215</td>\n",
       "      <td>4665</td>\n",
       "      <td>1.355</td>\n",
       "    </tr>\n",
       "    <tr>\n",
       "      <th>206</th>\n",
       "      <td>8.0646</td>\n",
       "      <td>73</td>\n",
       "      <td>29.220</td>\n",
       "      <td>2817</td>\n",
       "      <td>0.025</td>\n",
       "    </tr>\n",
       "    <tr>\n",
       "      <th>249</th>\n",
       "      <td>4.5218</td>\n",
       "      <td>27</td>\n",
       "      <td>33.960</td>\n",
       "      <td>5990</td>\n",
       "      <td>0.170</td>\n",
       "    </tr>\n",
       "    <tr>\n",
       "      <th>262</th>\n",
       "      <td>4.5296</td>\n",
       "      <td>94</td>\n",
       "      <td>15.525</td>\n",
       "      <td>1879</td>\n",
       "      <td>0.299</td>\n",
       "    </tr>\n",
       "    <tr>\n",
       "      <th>501</th>\n",
       "      <td>1.4924</td>\n",
       "      <td>58</td>\n",
       "      <td>31.310</td>\n",
       "      <td>3193</td>\n",
       "      <td>0.029</td>\n",
       "    </tr>\n",
       "  </tbody>\n",
       "</table>\n",
       "</div>"
      ],
      "text/plain": [
       "     buffer  RTT  avg_speed  buffer_delay  stuck_ratio\n",
       "138  2.1150   36      8.215          4665        1.355\n",
       "206  8.0646   73     29.220          2817        0.025\n",
       "249  4.5218   27     33.960          5990        0.170\n",
       "262  4.5296   94     15.525          1879        0.299\n",
       "501  1.4924   58     31.310          3193        0.029"
      ]
     },
     "execution_count": 80,
     "metadata": {},
     "output_type": "execute_result"
    }
   ],
   "source": [
    "training_data['buffer']/=5000\n",
    "training_data['avg_speed']/=200\n",
    "training_data.head()"
   ]
  },
  {
   "cell_type": "code",
   "execution_count": 81,
   "metadata": {
    "collapsed": false
   },
   "outputs": [
    {
     "name": "stderr",
     "output_type": "stream",
     "text": [
      "C:\\Users\\84338\\Anaconda3\\lib\\site-packages\\ipykernel\\__main__.py:1: SettingWithCopyWarning: \n",
      "A value is trying to be set on a copy of a slice from a DataFrame.\n",
      "Try using .loc[row_indexer,col_indexer] = value instead\n",
      "\n",
      "See the caveats in the documentation: http://pandas.pydata.org/pandas-docs/stable/indexing.html#indexing-view-versus-copy\n",
      "  if __name__ == '__main__':\n"
     ]
    }
   ],
   "source": [
    "training_data['buffer_delay']/=300"
   ]
  },
  {
   "cell_type": "code",
   "execution_count": 82,
   "metadata": {
    "collapsed": true
   },
   "outputs": [],
   "source": [
    "inputs=np.vstack([training_data[\"buffer\"].values,training_data[\"RTT\"].values,training_data[\"avg_speed\"].values]).transpose()\n",
    "\n",
    "inputs=np.hsplit(inputs.transpose(),inputs[:,0].size)\n",
    "\n",
    "outputs=np.vstack([training_data[\"buffer_delay\"].values,training_data[\"stuck_ratio\"].values]).transpose()\n",
    "\n",
    "outputs=np.hsplit(outputs.transpose(),outputs[:,0].size)"
   ]
  },
  {
   "cell_type": "code",
   "execution_count": 83,
   "metadata": {
    "collapsed": false
   },
   "outputs": [
    {
     "data": {
      "text/plain": [
       "(array([[  2.115],\n",
       "        [ 36.   ],\n",
       "        [  8.215]]), array([[ 15.55 ],\n",
       "        [  1.355]]))"
      ]
     },
     "execution_count": 83,
     "metadata": {},
     "output_type": "execute_result"
    }
   ],
   "source": [
    "_train=list(zip(inputs,outputs))\n",
    "type(_train[0][1])\n",
    "_train[0]"
   ]
  },
  {
   "cell_type": "code",
   "execution_count": 84,
   "metadata": {
    "collapsed": false
   },
   "outputs": [
    {
     "data": {
      "text/plain": [
       "4070"
      ]
     },
     "execution_count": 84,
     "metadata": {},
     "output_type": "execute_result"
    }
   ],
   "source": [
    "len(_train)"
   ]
  },
  {
   "cell_type": "code",
   "execution_count": 90,
   "metadata": {
    "collapsed": false
   },
   "outputs": [],
   "source": [
    "network = Network([3,6,2], func_model)"
   ]
  },
  {
   "cell_type": "code",
   "execution_count": 91,
   "metadata": {
    "collapsed": false
   },
   "outputs": [
    {
     "name": "stdout",
     "output_type": "stream",
     "text": [
      "Epoch 0 Cost: 7.548606222771982\n",
      "Epoch 1 Cost: 7.5553324654132155\n",
      "Epoch 2 Cost: 7.558505587077987\n",
      "Epoch 3 Cost: 7.560407122804084\n",
      "Epoch 4 Cost: 7.561729090461725\n",
      "Epoch 5 Cost: 7.5627783839676805\n",
      "Epoch 6 Cost: 7.563678837494773\n",
      "Epoch 7 Cost: 7.564489491636648\n",
      "Epoch 8 Cost: 7.565255124483705\n",
      "Epoch 9 Cost: 7.565987536650023\n",
      "Epoch 10 Cost: 7.566684115237339\n",
      "Epoch 11 Cost: 7.5673391994116495\n",
      "Epoch 12 Cost: 7.56794466393628\n",
      "Epoch 13 Cost: 7.56849603242554\n",
      "Epoch 14 Cost: 7.568992893374967\n",
      "Epoch 15 Cost: 7.569438125574298\n",
      "Epoch 16 Cost: 7.569835214807304\n",
      "Epoch 17 Cost: 7.570189459999199\n",
      "Epoch 18 Cost: 7.570505953762694\n",
      "Epoch 19 Cost: 7.570789075185508\n",
      "Epoch 20 Cost: 7.571043272073046\n",
      "Epoch 21 Cost: 7.571271959173653\n",
      "Epoch 22 Cost: 7.571478595844524\n",
      "Epoch 23 Cost: 7.571666039123989\n",
      "Epoch 24 Cost: 7.571836577066911\n",
      "Epoch 25 Cost: 7.5719923780739835\n",
      "Epoch 26 Cost: 7.572135161461017\n",
      "Epoch 27 Cost: 7.572266536079438\n",
      "Epoch 28 Cost: 7.572387717988542\n",
      "Epoch 29 Cost: 7.572499887313849\n",
      "Epoch 30 Cost: 7.5726040296594\n",
      "Epoch 31 Cost: 7.572700939614128\n",
      "Epoch 32 Cost: 7.572791373292807\n",
      "Epoch 33 Cost: 7.572875937751268\n",
      "Epoch 34 Cost: 7.57295515458096\n",
      "Epoch 35 Cost: 7.573029509050747\n",
      "Epoch 36 Cost: 7.573099429515308\n",
      "Epoch 37 Cost: 7.5731652658358755\n",
      "Epoch 38 Cost: 7.573227336337055\n",
      "Epoch 39 Cost: 7.573285918888653\n",
      "Epoch 40 Cost: 7.5733413177865065\n",
      "Epoch 41 Cost: 7.573393755510791\n",
      "Epoch 42 Cost: 7.573443430742007\n",
      "Epoch 43 Cost: 7.5734905916002395\n",
      "Epoch 44 Cost: 7.573535387577757\n",
      "Epoch 45 Cost: 7.573578006984683\n",
      "Epoch 46 Cost: 7.573618616638938\n",
      "Epoch 47 Cost: 7.573657384107119\n",
      "Epoch 48 Cost: 7.57369442360991\n",
      "Epoch 49 Cost: 7.573729882973703\n",
      "Epoch 50 Cost: 7.573763819801948\n",
      "Epoch 51 Cost: 7.573796370405898\n",
      "Epoch 52 Cost: 7.573827646756976\n",
      "Epoch 53 Cost: 7.573857706894402\n",
      "Epoch 54 Cost: 7.573886593186063\n",
      "Epoch 55 Cost: 7.573914401019885\n",
      "Epoch 56 Cost: 7.573941181197762\n",
      "Epoch 57 Cost: 7.573966957053477\n",
      "Epoch 58 Cost: 7.573991787061726\n",
      "Epoch 59 Cost: 7.574015702114843\n",
      "Epoch 60 Cost: 7.574038750778185\n",
      "Epoch 61 Cost: 7.574060972258527\n",
      "Epoch 62 Cost: 7.5740823977932\n",
      "Epoch 63 Cost: 7.574103085749033\n",
      "Epoch 64 Cost: 7.574123062389446\n",
      "Epoch 65 Cost: 7.574142376244242\n",
      "Epoch 66 Cost: 7.574161053660871\n",
      "Epoch 67 Cost: 7.574179129380548\n",
      "Epoch 68 Cost: 7.5741966402662815\n",
      "Epoch 69 Cost: 7.574213604514715\n",
      "Epoch 70 Cost: 7.574230058340725\n",
      "Epoch 71 Cost: 7.574246024903666\n",
      "Epoch 72 Cost: 7.57426152314753\n",
      "Epoch 73 Cost: 7.574276565672988\n",
      "Epoch 74 Cost: 7.5742911730736795\n",
      "Epoch 75 Cost: 7.574305366745546\n",
      "Epoch 76 Cost: 7.574319169007125\n",
      "Epoch 77 Cost: 7.574332588062929\n",
      "Epoch 78 Cost: 7.574345640908861\n",
      "Epoch 79 Cost: 7.5743583430010055\n",
      "Epoch 80 Cost: 7.574370704031904\n",
      "Epoch 81 Cost: 7.5743827458198405\n",
      "Epoch 82 Cost: 7.574394474607039\n",
      "Epoch 83 Cost: 7.574405903011511\n",
      "Epoch 84 Cost: 7.574417041862875\n",
      "Epoch 85 Cost: 7.5744279075121925\n",
      "Epoch 86 Cost: 7.574438502182731\n",
      "Epoch 87 Cost: 7.57444884396629\n",
      "Epoch 88 Cost: 7.57445893926576\n",
      "Epoch 89 Cost: 7.574468797638867\n",
      "Epoch 90 Cost: 7.574478430530285\n",
      "Epoch 91 Cost: 7.574487843409967\n",
      "Epoch 92 Cost: 7.574497043882959\n",
      "Epoch 93 Cost: 7.574506039290995\n",
      "Epoch 94 Cost: 7.574514840080119\n",
      "Epoch 95 Cost: 7.57452344917662\n",
      "Epoch 96 Cost: 7.574531877732417\n",
      "Epoch 97 Cost: 7.5745401320935155\n",
      "Epoch 98 Cost: 7.574548211789815\n",
      "Epoch 99 Cost: 7.574556130035501\n"
     ]
    }
   ],
   "source": [
    "network.SGD(_train[:3000],100,100,0.01,test_data=_train[3000:])"
   ]
  },
  {
   "cell_type": "code",
   "execution_count": null,
   "metadata": {
    "collapsed": true
   },
   "outputs": [],
   "source": []
  }
 ],
 "metadata": {
  "kernelspec": {
   "display_name": "Python [conda root]",
   "language": "python",
   "name": "conda-root-py"
  },
  "language_info": {
   "codemirror_mode": {
    "name": "ipython",
    "version": 3
   },
   "file_extension": ".py",
   "mimetype": "text/x-python",
   "name": "python",
   "nbconvert_exporter": "python",
   "pygments_lexer": "ipython3",
   "version": "3.5.2"
  }
 },
 "nbformat": 4,
 "nbformat_minor": 2
}
