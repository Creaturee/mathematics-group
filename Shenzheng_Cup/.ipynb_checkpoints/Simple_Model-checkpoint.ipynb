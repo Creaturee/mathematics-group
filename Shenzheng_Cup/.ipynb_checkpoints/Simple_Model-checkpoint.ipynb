{
 "cells": [
  {
   "cell_type": "code",
   "execution_count": 32,
   "metadata": {
    "collapsed": true
   },
   "outputs": [],
   "source": [
    "import pandas as pd\n",
    "import numpy as np\n",
    "import matplotlib.pyplot as plt\n",
    "import random\n",
    "import scipy as sp\n",
    "import scipy.optimize as op"
   ]
  },
  {
   "cell_type": "code",
   "execution_count": 2,
   "metadata": {
    "collapsed": true
   },
   "outputs": [],
   "source": [
    "data=pd.read_excel(\"SpeedVideoDataforModeling.xlsx\")"
   ]
  },
  {
   "cell_type": "code",
   "execution_count": 47,
   "metadata": {
    "collapsed": true
   },
   "outputs": [],
   "source": [
    "def model(p, RTT=50, MSS=1460, wmax=100):\n",
    "    def Rate(MSS, RTT, p, w, Q, G, T0, wmax):\n",
    "        if True:#w(p) < wmax:\n",
    "            Rate = MSS * ( ((1-p)/p) + w(p) + (Q(p, w(p))/(1-p)))/\\\n",
    "            (RTT * (w(p) + 1) + ((Q(p, w(p)) * G(p) * T0) /(1-p)))\n",
    "        else:\n",
    "            Rate = MSS * ( (1-p)/p + wmax + Q(p, wmax) / (1-p))/\\\n",
    "            (RTT*(0.25*wmax + (1 - p)/(p *wmax) + 2)+\\\n",
    "             (Q(p, wmax)*G(p)*T0) / (1 - p))\n",
    "        return Rate\n",
    "\n",
    "\n",
    "    def w(p):\n",
    "        return (2 / 3) * (1 + np.sqrt(3*((1 - p)/p)+1))\n",
    "\n",
    "\n",
    "    def Q(p, w):\n",
    "        return np.min([1, ((1-(1-p)**3)) * (1+np.power(1-p,3)*(1-np.power(1-p,w-3)))/\n",
    "                       (1 - np.power(1-p,w))])\n",
    "\n",
    "    def G(p):\n",
    "        return np.sum([np.power(2, i - 1) * np.power(p, i) for i in np.linspace(1,6,6)])+1\n",
    "    \n",
    "    return Rate(MSS, RTT,p, w, Q, G, 2*RTT, wmax)"
   ]
  },
  {
   "cell_type": "code",
   "execution_count": 48,
   "metadata": {},
   "outputs": [
    {
     "data": {
      "image/png": "[encoded data removed]",
      "text/plain": [
       "<matplotlib.figure.Figure at 0x1e3574f3358>"
      ]
     },
     "metadata": {},
     "output_type": "display_data"
    }
   ],
   "source": [
    "x=np.linspace(0.001,0.9,1000)\n",
    "y=np.array([model(i) for i in x])\n",
    "plt.plot(x,y)\n",
    "plt.show()"
   ]
  }
 ],
 "metadata": {
  "kernelspec": {
   "display_name": "Python [conda root]",
   "language": "python",
   "name": "conda-root-py"
  },
  "language_info": {
   "codemirror_mode": {
    "name": "ipython",
    "version": 3
   },
   "file_extension": ".py",
   "mimetype": "text/x-python",
   "name": "python",
   "nbconvert_exporter": "python",
   "pygments_lexer": "ipython3",
   "version": "3.5.2"
  }
 },
 "nbformat": 4,
 "nbformat_minor": 2
}
