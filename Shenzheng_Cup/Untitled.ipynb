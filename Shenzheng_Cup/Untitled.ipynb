{
 "cells": [
  {
   "cell_type": "code",
   "execution_count": 2,
   "metadata": {
    "collapsed": true
   },
   "outputs": [],
   "source": [
    "import pandas as pd\n",
    "import numpy as np\n",
    "import matplotlib.pyplot as plt\n",
    "import random"
   ]
  },
  {
   "cell_type": "code",
   "execution_count": 3,
   "metadata": {
    "collapsed": true
   },
   "outputs": [],
   "source": [
    "# 导入数据\n",
    "data=pd.read_excel(\"SpeedVideoDataforModeling.xlsx\")"
   ]
  },
  {
   "cell_type": "code",
   "execution_count": 45,
   "metadata": {
    "collapsed": false
   },
   "outputs": [
    {
     "data": {
      "text/html": [
       "<div>\n",
       "<table border=\"1\" class=\"dataframe\">\n",
       "  <thead>\n",
       "    <tr style=\"text-align: right;\">\n",
       "      <th></th>\n",
       "      <th>初始缓冲峰值速率(kbps)</th>\n",
       "      <th>E2E RTT(ms)</th>\n",
       "      <th>播放阶段平均速率(kbps)</th>\n",
       "      <th>初始缓冲时延(ms)</th>\n",
       "      <th>卡顿占比</th>\n",
       "      <th>视频全程感知速率(kbps)</th>\n",
       "      <th>卡顿时长(ms)</th>\n",
       "      <th>播放时长(ms)</th>\n",
       "      <th>播放阶段总时长(ms)</th>\n",
       "      <th>卡顿次数</th>\n",
       "      <th>视频码率(kbps)</th>\n",
       "      <th>初始缓冲下载数据量(byte)</th>\n",
       "    </tr>\n",
       "  </thead>\n",
       "  <tbody>\n",
       "    <tr>\n",
       "      <th>0</th>\n",
       "      <td>49450</td>\n",
       "      <td>54</td>\n",
       "      <td>3719</td>\n",
       "      <td>1108</td>\n",
       "      <td>0.0</td>\n",
       "      <td>3795</td>\n",
       "      <td>0</td>\n",
       "      <td>30013</td>\n",
       "      <td>30013</td>\n",
       "      <td>0</td>\n",
       "      <td>2934</td>\n",
       "      <td>1645944</td>\n",
       "    </tr>\n",
       "    <tr>\n",
       "      <th>1</th>\n",
       "      <td>50517</td>\n",
       "      <td>52</td>\n",
       "      <td>5902</td>\n",
       "      <td>1095</td>\n",
       "      <td>0.0</td>\n",
       "      <td>5859</td>\n",
       "      <td>0</td>\n",
       "      <td>30006</td>\n",
       "      <td>30006</td>\n",
       "      <td>0</td>\n",
       "      <td>2903</td>\n",
       "      <td>1555356</td>\n",
       "    </tr>\n",
       "    <tr>\n",
       "      <th>2</th>\n",
       "      <td>47988</td>\n",
       "      <td>47</td>\n",
       "      <td>5806</td>\n",
       "      <td>1051</td>\n",
       "      <td>0.0</td>\n",
       "      <td>5857</td>\n",
       "      <td>0</td>\n",
       "      <td>30006</td>\n",
       "      <td>30006</td>\n",
       "      <td>0</td>\n",
       "      <td>2903</td>\n",
       "      <td>1535444</td>\n",
       "    </tr>\n",
       "    <tr>\n",
       "      <th>3</th>\n",
       "      <td>56457</td>\n",
       "      <td>55</td>\n",
       "      <td>5978</td>\n",
       "      <td>1099</td>\n",
       "      <td>0.0</td>\n",
       "      <td>5989</td>\n",
       "      <td>0</td>\n",
       "      <td>30003</td>\n",
       "      <td>30003</td>\n",
       "      <td>0</td>\n",
       "      <td>2903</td>\n",
       "      <td>1534092</td>\n",
       "    </tr>\n",
       "    <tr>\n",
       "      <th>4</th>\n",
       "      <td>56690</td>\n",
       "      <td>54</td>\n",
       "      <td>5931</td>\n",
       "      <td>1133</td>\n",
       "      <td>0.0</td>\n",
       "      <td>5932</td>\n",
       "      <td>0</td>\n",
       "      <td>30005</td>\n",
       "      <td>30005</td>\n",
       "      <td>0</td>\n",
       "      <td>2934</td>\n",
       "      <td>1582192</td>\n",
       "    </tr>\n",
       "  </tbody>\n",
       "</table>\n",
       "</div>"
      ],
      "text/plain": [
       "   初始缓冲峰值速率(kbps)  E2E RTT(ms)  播放阶段平均速率(kbps)  初始缓冲时延(ms)  卡顿占比  \\\n",
       "0           49450           54            3719        1108   0.0   \n",
       "1           50517           52            5902        1095   0.0   \n",
       "2           47988           47            5806        1051   0.0   \n",
       "3           56457           55            5978        1099   0.0   \n",
       "4           56690           54            5931        1133   0.0   \n",
       "\n",
       "   视频全程感知速率(kbps)  卡顿时长(ms)  播放时长(ms)  播放阶段总时长(ms)  卡顿次数  视频码率(kbps)  \\\n",
       "0            3795         0     30013        30013     0        2934   \n",
       "1            5859         0     30006        30006     0        2903   \n",
       "2            5857         0     30006        30006     0        2903   \n",
       "3            5989         0     30003        30003     0        2903   \n",
       "4            5932         0     30005        30005     0        2934   \n",
       "\n",
       "   初始缓冲下载数据量(byte)  \n",
       "0          1645944  \n",
       "1          1555356  \n",
       "2          1535444  \n",
       "3          1534092  \n",
       "4          1582192  "
      ]
     },
     "execution_count": 45,
     "metadata": {},
     "output_type": "execute_result"
    }
   ],
   "source": [
    "# 初步查看数据\n",
    "test=data.head()\n",
    "test.iloc[:,[1,2,3,4,5,7,8,9,10,11,12,13]] "
   ]
  },
  {
   "cell_type": "code",
   "execution_count": 14,
   "metadata": {
    "collapsed": false
   },
   "outputs": [
    {
     "data": {
      "text/plain": [
       "0    30013\n",
       "1    30006\n",
       "2    30006\n",
       "3    30003\n",
       "4    30005\n",
       "Name: 播放时长(ms), dtype: int64"
      ]
     },
     "execution_count": 14,
     "metadata": {},
     "output_type": "execute_result"
    }
   ],
   "source": [
    "test.iloc[:,9]"
   ]
  },
  {
   "cell_type": "code",
   "execution_count": 29,
   "metadata": {
    "collapsed": false
   },
   "outputs": [
    {
     "data": {
      "text/plain": [
       "0    88058.142\n",
       "1    87107.418\n",
       "2    87107.418\n",
       "3    87098.709\n",
       "4    88034.670\n",
       "dtype: float64"
      ]
     },
     "execution_count": 29,
     "metadata": {},
     "output_type": "execute_result"
    }
   ],
   "source": [
    "# 视频总数据量\n",
    "length=test.iloc[:,12]*test.iloc[:,9]*10**(-3) # kb\n",
    "length"
   ]
  },
  {
   "cell_type": "code",
   "execution_count": 47,
   "metadata": {
    "collapsed": false
   },
   "outputs": [
    {
     "data": {
      "text/plain": [
       "0    124785.899\n",
       "1    189538.260\n",
       "2    186498.388\n",
       "3    191630.670\n",
       "4    190617.191\n",
       "dtype: float64"
      ]
     },
     "execution_count": 47,
     "metadata": {},
     "output_type": "execute_result"
    }
   ],
   "source": [
    "# 理论传输数据量 \n",
    "# 注意到 1 Byte = 8 Bit\n",
    "exp_length=(test.iloc[:,10]*10**(-3)*test.iloc[:,3]+test.iloc[:,13]*8/1000) # kb\n",
    "exp_length"
   ]
  },
  {
   "cell_type": "code",
   "execution_count": 48,
   "metadata": {
    "collapsed": false
   },
   "outputs": [
    {
     "data": {
      "text/plain": [
       "0    13286.40348\n",
       "1    12561.67176\n",
       "2    12402.97588\n",
       "3    12391.54788\n",
       "4    12776.05575\n",
       "dtype: float64"
      ]
     },
     "execution_count": 48,
     "metadata": {},
     "output_type": "execute_result"
    }
   ],
   "source": [
    "(test.iloc[:,10]*10**(-3)*test.iloc[:,6]+test.iloc[:,13]*8/1000) # kb"
   ]
  },
  {
   "cell_type": "code",
   "execution_count": null,
   "metadata": {
    "collapsed": true
   },
   "outputs": [],
   "source": [
    "# 显然，理论传输数据与实际接收数据量差距较大"
   ]
  },
  {
   "cell_type": "code",
   "execution_count": 52,
   "metadata": {
    "collapsed": false
   },
   "outputs": [
    {
     "data": {
      "text/plain": [
       "0    266.280121\n",
       "1    246.310113\n",
       "2    255.971326\n",
       "3    217.382008\n",
       "4    223.276345\n",
       "dtype: float64"
      ]
     },
     "execution_count": 52,
     "metadata": {},
     "output_type": "execute_result"
    }
   ],
   "source": [
    "# 下载数据量除以峰值速度\n",
    "test.iloc[:,13]*8/1000/test.iloc[:,1]*1000"
   ]
  },
  {
   "cell_type": "code",
   "execution_count": 50,
   "metadata": {
    "collapsed": false
   },
   "outputs": [
    {
     "data": {
      "text/plain": [
       "0    49450\n",
       "1    50517\n",
       "2    47988\n",
       "3    56457\n",
       "4    56690\n",
       "Name: 初始缓冲峰值速率(kbps), dtype: int64"
      ]
     },
     "execution_count": 50,
     "metadata": {},
     "output_type": "execute_result"
    }
   ],
   "source": [
    "test.iloc[:,1]\n"
   ]
  },
  {
   "cell_type": "code",
   "execution_count": null,
   "metadata": {
    "collapsed": true
   },
   "outputs": [],
   "source": []
  }
 ],
 "metadata": {
  "kernelspec": {
   "display_name": "Python [conda root]",
   "language": "python",
   "name": "conda-root-py"
  },
  "language_info": {
   "codemirror_mode": {
    "name": "ipython",
    "version": 3
   },
   "file_extension": ".py",
   "mimetype": "text/x-python",
   "name": "python",
   "nbconvert_exporter": "python",
   "pygments_lexer": "ipython3",
   "version": "3.5.2"
  }
 },
 "nbformat": 4,
 "nbformat_minor": 2
}
